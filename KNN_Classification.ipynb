{
  "nbformat": 4,
  "nbformat_minor": 0,
  "metadata": {
    "colab": {
      "provenance": [],
      "authorship_tag": "ABX9TyNEdLRdtIyQj+lBdVqVb5nE",
      "include_colab_link": true
    },
    "kernelspec": {
      "name": "python3",
      "display_name": "Python 3"
    },
    "language_info": {
      "name": "python"
    }
  },
  "cells": [
    {
      "cell_type": "markdown",
      "metadata": {
        "id": "view-in-github",
        "colab_type": "text"
      },
      "source": [
        "<a href=\"https://colab.research.google.com/github/theclassofai/DataScience_Nuggets/blob/main/KNN_Classification.ipynb\" target=\"_parent\"><img src=\"https://colab.research.google.com/assets/colab-badge.svg\" alt=\"Open In Colab\"/></a>"
      ]
    },
    {
      "cell_type": "markdown",
      "source": [
        "### K-Nearest Neighbors\n",
        "KNN, or K-Nearest Neighbors, is a simple yet powerful supervised machine learning algorithm used for classification and regression tasks. In KNN, the class of a new data point is determined by the majority class among its k nearest neighbors in the feature space. It relies on the assumption that similar data points tend to belong to the same class or have similar output values."
      ],
      "metadata": {
        "id": "i7LD27asZcqA"
      }
    },
    {
      "cell_type": "markdown",
      "source": [
        "<img title=\"a title\" alt=\"Alt text\" src=\"https://miro.medium.com/v2/resize:fit:1358/0*ItVKiyx2F3ZU8zV5\" width=\"700\">"
      ],
      "metadata": {
        "id": "fFQ0Fm9UZBVr"
      }
    },
    {
      "cell_type": "code",
      "source": [
        "import numpy as np\n",
        "import matplotlib.pyplot as plt\n",
        "from collections import Counter\n",
        "from sklearn.metrics import classification_report"
      ],
      "metadata": {
        "id": "iXMjsDDlZb2i"
      },
      "execution_count": 2,
      "outputs": []
    },
    {
      "cell_type": "code",
      "source": [
        "# Generate Dataset\n",
        "np.random.seed(0)\n",
        "x = np.random.rand(100,2) * 10\n",
        "y = np.random.choice([0,1], size=100)\n"
      ],
      "metadata": {
        "id": "0P2JhMqYbImo"
      },
      "execution_count": 6,
      "outputs": []
    },
    {
      "cell_type": "code",
      "source": [
        "# Split data into training and test\n",
        "X_train, X_test = x[:80], x[80:]\n",
        "y_train, y_test = y[:80], y[80:]"
      ],
      "metadata": {
        "id": "D9MyJUUebxLc"
      },
      "execution_count": 8,
      "outputs": []
    },
    {
      "cell_type": "code",
      "source": [
        "# define Euclidean distance\n",
        "def edu_dist(x1,x2):\n",
        "  return np.sqrt(np.sum((x1-x2)**2))"
      ],
      "metadata": {
        "id": "tmB980OicT-y"
      },
      "execution_count": 9,
      "outputs": []
    },
    {
      "cell_type": "code",
      "source": [
        "# KNN Algorithm\n",
        "\n",
        "def KNN_pred(X_train, y_train, X_test, k):\n",
        "  distance = [edu_dist(X_test, x_train) for x_train in X_train]\n",
        "  k_indices = np.argsort(distance)[:k]\n",
        "  k_nearest_labels = [y_train[i] for i in k_indices]\n",
        "  most_common = Counter(k_nearest_labels).most_common(1)\n",
        "  return most_common[0][0]\n"
      ],
      "metadata": {
        "id": "AvldOyg3c0Ac"
      },
      "execution_count": 11,
      "outputs": []
    },
    {
      "cell_type": "code",
      "source": [
        "# Prediction Test Data\n",
        "y_pred = [KNN_pred(X_train, y_train, x_test, k=3) for x_test in X_test]\n",
        "y_pred"
      ],
      "metadata": {
        "colab": {
          "base_uri": "https://localhost:8080/"
        },
        "id": "ZhA7U2DHeKkQ",
        "outputId": "f1637867-d222-4434-fb2d-5a1e379915c9"
      },
      "execution_count": 13,
      "outputs": [
        {
          "output_type": "execute_result",
          "data": {
            "text/plain": [
              "[0, 0, 1, 1, 0, 1, 0, 1, 0, 1, 1, 0, 0, 1, 0, 0, 0, 1, 0, 1]"
            ]
          },
          "metadata": {},
          "execution_count": 13
        }
      ]
    },
    {
      "cell_type": "code",
      "source": [
        "# Classification report\n",
        "print(classification_report(y_test, y_pred))"
      ],
      "metadata": {
        "colab": {
          "base_uri": "https://localhost:8080/"
        },
        "id": "GDTqcfYeel_b",
        "outputId": "abd89319-73c4-4fe0-8d73-631c4025909c"
      },
      "execution_count": 14,
      "outputs": [
        {
          "output_type": "stream",
          "name": "stdout",
          "text": [
            "              precision    recall  f1-score   support\n",
            "\n",
            "           0       0.36      0.40      0.38        10\n",
            "           1       0.33      0.30      0.32        10\n",
            "\n",
            "    accuracy                           0.35        20\n",
            "   macro avg       0.35      0.35      0.35        20\n",
            "weighted avg       0.35      0.35      0.35        20\n",
            "\n"
          ]
        }
      ]
    }
  ]
}